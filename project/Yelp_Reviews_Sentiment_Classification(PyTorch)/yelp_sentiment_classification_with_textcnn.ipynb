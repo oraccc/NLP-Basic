{
  "nbformat": 4,
  "nbformat_minor": 0,
  "metadata": {
    "colab": {
      "provenance": []
    },
    "kernelspec": {
      "name": "python3",
      "display_name": "Python 3"
    },
    "language_info": {
      "name": "python"
    },
    "accelerator": "GPU",
    "gpuClass": "standard"
  },
  "cells": [
    {
      "cell_type": "markdown",
      "source": [
        "## 1. Download Yelp Polarity Review Dataset and Preprocess"
      ],
      "metadata": {
        "id": "f5Q6tFBFTgok"
      }
    },
    {
      "cell_type": "code",
      "execution_count": 1,
      "metadata": {
        "id": "YbmXF7B5JZ2E",
        "colab": {
          "base_uri": "https://localhost:8080/"
        },
        "outputId": "bec7c4a9-7d27-4f41-e8c6-6365dda1dbd3"
      },
      "outputs": [
        {
          "output_type": "stream",
          "name": "stdout",
          "text": [
            "Mounted at /content/drive\n"
          ]
        }
      ],
      "source": [
        "from google.colab import drive\n",
        "drive.mount('/content/drive')"
      ]
    },
    {
      "cell_type": "code",
      "source": [
        "# !wget https://s3.amazonaws.com/fast-ai-nlp/yelp_review_polarity_csv.tgz\n",
        "# !tar -xvzf yelp_review_polarity_csv.tgz\n"
      ],
      "metadata": {
        "id": "i3JOj_GLKhN3"
      },
      "execution_count": 2,
      "outputs": []
    },
    {
      "cell_type": "code",
      "source": [
        "# !cp -r yelp_review_polarity_csv /content/drive/MyDrive/Colab_NoteBooks/Yelp"
      ],
      "metadata": {
        "id": "nHo0UCSMNLeF"
      },
      "execution_count": 3,
      "outputs": []
    },
    {
      "cell_type": "code",
      "source": [
        "import pandas as pd\n",
        "\n",
        "train_data_big = pd.read_csv(\"/content/drive/MyDrive/Colab_Notebooks/Yelp/train.csv\", header=None, names=[\"sentiment\", \"text\"])\n",
        "test_data_big = pd.read_csv(\"/content/drive/MyDrive/Colab_Notebooks/Yelp/test.csv\", header=None, names=[\"sentiment\", \"text\"])"
      ],
      "metadata": {
        "id": "C0aqTc6fN2Q-"
      },
      "execution_count": 4,
      "outputs": []
    },
    {
      "cell_type": "code",
      "source": [
        "def get_smaller_df(df, size):\n",
        "    data_negative = df[df[\"sentiment\"] == 1].head(size)\n",
        "    data_postive = df[df[\"sentiment\"] == 2].head(size)\n",
        "    df_small = pd.concat([data_negative, data_postive])\n",
        "    return df_small\n",
        "\n",
        "train_data = get_smaller_df(train_data_big, 7000)\n",
        "test_data = get_smaller_df(test_data_big, 3000)"
      ],
      "metadata": {
        "id": "6gYvuV27PbNs"
      },
      "execution_count": 5,
      "outputs": []
    },
    {
      "cell_type": "code",
      "source": [
        "import matplotlib.pyplot as plt\n",
        "\n",
        "print(train_data[\"sentiment\"].value_counts())\n",
        "print(test_data[\"sentiment\"].value_counts())\n",
        "\n",
        "plt.figure()\n",
        "train_data[\"sentiment\"].value_counts().plot.bar(title=\"Sentiment distribution in train df\")\n",
        "# pd.value_counts(train_data[0]).plot.bar(title=\"Sentiment distribution in train df\")\n",
        "plt.xlabel(\"Sentiment\")\n",
        "plt.ylabel(\"# of rows in df\")\n",
        "plt.show()"
      ],
      "metadata": {
        "colab": {
          "base_uri": "https://localhost:8080/",
          "height": 401
        },
        "id": "7dnkJxJTQ75Z",
        "outputId": "b437b5a9-2503-47cf-96bf-b4fcecca5eca"
      },
      "execution_count": 6,
      "outputs": [
        {
          "output_type": "stream",
          "name": "stdout",
          "text": [
            "1    7000\n",
            "2    7000\n",
            "Name: sentiment, dtype: int64\n",
            "1    3000\n",
            "2    3000\n",
            "Name: sentiment, dtype: int64\n"
          ]
        },
        {
          "output_type": "display_data",
          "data": {
            "text/plain": [
              "<Figure size 432x288 with 1 Axes>"
            ],
            "image/png": "[encoded data removed]"
          },
          "metadata": {
            "needs_background": "light"
          }
        }
      ]
    },
    {
      "cell_type": "markdown",
      "source": [
        "### How to preprocess text data?\n",
        "* Removal of Stop Words \n",
        "* Tokenization\n",
        "* Stemming"
      ],
      "metadata": {
        "id": "H9pFeuorVwCN"
      }
    },
    {
      "cell_type": "markdown",
      "source": [
        "removal of stop words removes necessary words required to get the sentiment and sometimes it can totally change the meaning of the sentence. In the examples printed by above piece of code, it is clear that it can convert a negative statement into positive sentence. Thus, this step is skipped for Sentiment Classification."
      ],
      "metadata": {
        "id": "gKPVkh9nfrf9"
      }
    },
    {
      "cell_type": "code",
      "source": [
        "from gensim.parsing.preprocessing import remove_stopwords\n",
        "print(remove_stopwords(\"I did not like the food!!\"))\n",
        "print(remove_stopwords(\"This product is not good\"))"
      ],
      "metadata": {
        "colab": {
          "base_uri": "https://localhost:8080/"
        },
        "id": "eNR34Wvsfwb3",
        "outputId": "8d9db4ef-485d-4cbd-e2f6-16707dbe04f5"
      },
      "execution_count": 7,
      "outputs": [
        {
          "output_type": "stream",
          "name": "stdout",
          "text": [
            "I like food!!\n",
            "This product good\n"
          ]
        }
      ]
    },
    {
      "cell_type": "markdown",
      "source": [
        "Tokenization is the process in which the sentence/text is split into array of words called tokens. This helps to do transformations on each words separately and this is also required to transform words to numbers. There are different ways of performing tokenization.\n",
        "\n",
        "Here, `simple_preprocess` is used to get the tokens for the dataframe as it does most of the preprocessing already for us. "
      ],
      "metadata": {
        "id": "zGF1UJwCgaJc"
      }
    },
    {
      "cell_type": "code",
      "source": [
        "from gensim.utils import simple_preprocess\n",
        "\n",
        "train_data[\"tokenized_text\"] = [simple_preprocess(line, deacc=True) for line in train_data[\"text\"]]\n",
        "test_data[\"tokenized_text\"] = [simple_preprocess(line, deacc=True) for line in test_data[\"text\"]]\n",
        "\n",
        "train_data[\"tokenized_text\"].head(5)"
      ],
      "metadata": {
        "colab": {
          "base_uri": "https://localhost:8080/"
        },
        "id": "3u1FuFJ3ga-S",
        "outputId": "3a42aa13-9cea-4e06-fb56-66455cef67c6"
      },
      "execution_count": 8,
      "outputs": [
        {
          "output_type": "execute_result",
          "data": {
            "text/plain": [
              "0    [unfortunately, the, frustration, of, being, d...\n",
              "2    [don, know, what, dr, goldberg, was, like, bef...\n",
              "3    [writing, this, review, to, give, you, heads, ...\n",
              "5    [wing, sauce, is, like, water, pretty, much, l...\n",
              "6    [owning, driving, range, inside, the, city, li...\n",
              "Name: tokenized_text, dtype: object"
            ]
          },
          "metadata": {},
          "execution_count": 8
        }
      ]
    },
    {
      "cell_type": "markdown",
      "source": [
        "Stemming process reduces the words to its’ root word. Unlike Lemmatization which uses grammar rules and dictionary for mapping words to root form, stemming **simply removes suffixes/prefixes**. Stemming is widely used in the application of SEOs, Web search results, and information retrieval since as long as the root matches in the text somewhere it helps to retrieve all the related documents in the search."
      ],
      "metadata": {
        "id": "GPmNtcXdomIL"
      }
    },
    {
      "cell_type": "code",
      "source": [
        "from gensim.parsing.porter import PorterStemmer\n",
        "porter_stemmer = PorterStemmer()\n",
        "\n",
        "train_data[\"stemmed_tokens\"] = [[porter_stemmer.stem(word) for word in tokens] for tokens in train_data[\"tokenized_text\"]]\n",
        "test_data[\"stemmed_tokens\"] = [[porter_stemmer.stem(word) for word in tokens] for tokens in test_data[\"tokenized_text\"]]\n",
        "\n",
        "train_data[\"stemmed_tokens\"].head(5)"
      ],
      "metadata": {
        "colab": {
          "base_uri": "https://localhost:8080/"
        },
        "id": "Vzk0CbK_olLh",
        "outputId": "2ecf799a-948b-42e5-8052-6e55fdf7e148"
      },
      "execution_count": 9,
      "outputs": [
        {
          "output_type": "execute_result",
          "data": {
            "text/plain": [
              "0    [unfortun, the, frustrat, of, be, dr, goldberg...\n",
              "2    [don, know, what, dr, goldberg, wa, like, befo...\n",
              "3    [write, thi, review, to, give, you, head, up, ...\n",
              "5    [wing, sauc, is, like, water, pretti, much, lo...\n",
              "6    [own, drive, rang, insid, the, citi, limit, is...\n",
              "Name: stemmed_tokens, dtype: object"
            ]
          },
          "metadata": {},
          "execution_count": 9
        }
      ]
    },
    {
      "cell_type": "markdown",
      "source": [
        "## 2. Train Word2Vec Model and Create Dataloader"
      ],
      "metadata": {
        "id": "tlTez4fkt6Z2"
      }
    },
    {
      "cell_type": "code",
      "source": [
        "from gensim.models import Word2Vec\n",
        "\n",
        "def make_word2vec_model(train_data, test_data, padding=True, sg=1, min_count=1, size=500, workers=3, window=3):\n",
        "    if padding:\n",
        "        temp_train_df = list(pd.Series(train_data['stemmed_tokens']).values)\n",
        "        temp_test_df = list(pd.Series(test_data['stemmed_tokens']).values)\n",
        "        temp_df = temp_train_df + temp_test_df\n",
        "        temp_df.append(['pad'])\n",
        "        word2vec_file = \"/content/drive/MyDrive/Colab_Notebooks/Yelp/\" + \"models/\" + \"word2vec_\" + str(size) + \"_PAD.model\"\n",
        "    else:\n",
        "        temp_train_df = list(pd.Series(train_data['stemmed_tokens']).values)\n",
        "        temp_test_df = list(pd.Series(test_data['stemmed_tokens']).values)\n",
        "        temp_df = temp_train_df + temp_test_df\n",
        "        word2vec_file = \"/content/drive/MyDrive/Colab_Notebooks/Yelp/\" + \"models/\" + \"word2vec_\" + str(size) + \".model\"\n",
        "    w2v_model = Word2Vec(temp_df, min_count = min_count, vector_size = size, workers = workers, window = window, sg = sg)\n",
        "    w2v_model.save(word2vec_file)\n",
        "    return w2v_model, word2vec_file\n",
        "\n",
        "# w2vmodel, word2vec_file = make_word2vec_model(train_data, test_data)"
      ],
      "metadata": {
        "id": "0qKj1p_ruRFQ"
      },
      "execution_count": 10,
      "outputs": []
    },
    {
      "cell_type": "code",
      "source": [
        "w2vmodel = Word2Vec.load(\"/content/drive/MyDrive/Colab_Notebooks/Yelp/models/word2vec_500_PAD.model\")"
      ],
      "metadata": {
        "id": "yhpzC_7KgH9o"
      },
      "execution_count": 11,
      "outputs": []
    },
    {
      "cell_type": "code",
      "source": [
        "import torch\n",
        "import torch.nn.functional as F\n",
        "from torch import nn, optim\n",
        "from torch.utils.data import Dataset, DataLoader\n",
        "from torch.nn.utils import weight_norm\n",
        "import torch.optim.lr_scheduler as lr_scheduler\n",
        "\n",
        "import numpy as np\n",
        "import warnings\n",
        "from tqdm import tqdm\n",
        "\n",
        "warnings.filterwarnings(\"ignore\") \n",
        "device = torch.device(\"cuda\" if torch.cuda.is_available() else \"cpu\")\n",
        "print(device)\n",
        "\n",
        "MAX_LEN = 950\n",
        "BATCH_SIZE = 16"
      ],
      "metadata": {
        "colab": {
          "base_uri": "https://localhost:8080/"
        },
        "id": "wZqsbWKFJGEz",
        "outputId": "7fd50e4a-280e-42d8-b61f-97d4117c0c34"
      },
      "execution_count": 20,
      "outputs": [
        {
          "output_type": "stream",
          "name": "stdout",
          "text": [
            "cuda\n"
          ]
        }
      ]
    },
    {
      "cell_type": "code",
      "source": [
        "def make_target(label):\n",
        "    if label == 1:\n",
        "        return torch.tensor([0], dtype=torch.long, device = device)\n",
        "    else:\n",
        "        return torch.tensor([1], dtype=torch.long, device = device)\n",
        "\n",
        "def make_word2vec_ids(sentence, word2vec, max_len):\n",
        "    padding_idx = word2vec.wv.key_to_index['pad']\n",
        "    padded_sentence = [padding_idx for i in range(max_len)]\n",
        "    i = 0\n",
        "    for word in sentence:\n",
        "        if word not in word2vec.wv.key_to_index:\n",
        "            padded_sentence[i] = 0\n",
        "        else:\n",
        "            padded_sentence[i] = word2vec.wv.key_to_index[word]\n",
        "        i += 1\n",
        "    return torch.tensor(padded_sentence, dtype=torch.long, device = device)"
      ],
      "metadata": {
        "id": "k86SrKAhL5ij"
      },
      "execution_count": 13,
      "outputs": []
    },
    {
      "cell_type": "code",
      "source": [
        "class YelpReviewDataset(Dataset):\n",
        "    def __init__(self, reviews, stemmed_tokens, targets, word2vec, max_len):\n",
        "        super(YelpReviewDataset, self).__init__()\n",
        "        self.reviews = reviews\n",
        "        self.stemmed_tokens = stemmed_tokens\n",
        "        self.targets = targets\n",
        "        self.max_len = max_len\n",
        "        self.word2vec = word2vec\n",
        "\n",
        "    def __len__(self):\n",
        "        return len(self.reviews)\n",
        "\n",
        "    def __getitem__(self, item):\n",
        "        review = self.reviews[item]\n",
        "        tokens = self.stemmed_tokens[item]\n",
        "        target = make_target(self.targets[item])\n",
        "        ids = make_word2vec_ids(tokens, self.word2vec, self.max_len)\n",
        "        return {\n",
        "            \"review\": review,\n",
        "            \"ids\": ids,\n",
        "            \"target\": target\n",
        "        }"
      ],
      "metadata": {
        "id": "za41eJT_I7l5"
      },
      "execution_count": 14,
      "outputs": []
    },
    {
      "cell_type": "code",
      "source": [
        "def create_data_loader(df, word2vec, max_len, batch_size):\n",
        "    ds = YelpReviewDataset(\n",
        "        reviews = df.text.to_numpy(),\n",
        "        stemmed_tokens = df.stemmed_tokens.to_numpy(),\n",
        "        targets = df.sentiment.to_numpy(),\n",
        "        word2vec = word2vec,\n",
        "        max_len = max_len\n",
        "    )\n",
        "\n",
        "    return DataLoader(ds, batch_size = batch_size, shuffle=True, num_workers=0)"
      ],
      "metadata": {
        "id": "SWFsk-7eOVHo"
      },
      "execution_count": 21,
      "outputs": []
    },
    {
      "cell_type": "code",
      "source": [
        "train_data_loader = create_data_loader(train_data, w2vmodel, MAX_LEN, BATCH_SIZE)\n",
        "test_data_loader = create_data_loader(test_data, w2vmodel, MAX_LEN, BATCH_SIZE)"
      ],
      "metadata": {
        "id": "g2OtDVWEV3hr"
      },
      "execution_count": 22,
      "outputs": []
    },
    {
      "cell_type": "code",
      "source": [
        "sample_data = next(iter(train_data_loader))\n",
        "print(sample_data[\"ids\"].shape)\n",
        "print(sample_data[\"target\"].shape)"
      ],
      "metadata": {
        "id": "54OAS53cWRVM",
        "colab": {
          "base_uri": "https://localhost:8080/"
        },
        "outputId": "75c931bf-076c-4f4d-f218-d9eb66a4637b"
      },
      "execution_count": 23,
      "outputs": [
        {
          "output_type": "stream",
          "name": "stdout",
          "text": [
            "torch.Size([16, 950])\n",
            "torch.Size([16, 1])\n"
          ]
        }
      ]
    },
    {
      "cell_type": "markdown",
      "source": [
        "## 3. Define and Train A TextCNN Model"
      ],
      "metadata": {
        "id": "P8ATvzNvoG_H"
      }
    },
    {
      "cell_type": "code",
      "source": [
        "class CNNConfig(object):\n",
        "    embedding_dim = 500\n",
        "    num_filters = 10\n",
        "    seq_length = 950\n",
        "    num_classes = 2\n",
        "    window_sizes = [1, 2, 3, 5]\n",
        "\n",
        "    dropout_rate = 0.5\n",
        "    l2_reg = 0.01\n",
        "    learning_rate = 0.001\n",
        "    num_epochs = 20"
      ],
      "metadata": {
        "id": "4Z1S0t62XOA4"
      },
      "execution_count": 32,
      "outputs": []
    },
    {
      "cell_type": "code",
      "source": [
        "class TextCNN(nn.Module):\n",
        "    def __init__(self, config, word2vec):\n",
        "        super(TextCNN, self).__init__()\n",
        "        self.dropout_rate = config.dropout_rate\n",
        "        self.num_classes = config.num_classes\n",
        "        weights = word2vec.wv\n",
        "        self.embedding = nn.Embedding.from_pretrained(torch.FloatTensor(weights.vectors), padding_idx=word2vec.wv.key_to_index['pad'])\n",
        "        self.convs = nn.ModuleList([\n",
        "            nn.Sequential(nn.Conv1d(in_channels = config.embedding_dim,\n",
        "                                    out_channels = config.num_filters,\n",
        "                                    kernel_size = h),\n",
        "                          nn.ReLU(),\n",
        "                          nn.MaxPool1d(kernel_size = config.seq_length-h+1)\n",
        "                          )\n",
        "            for h in config.window_sizes\n",
        "        ])\n",
        "        self.fc = nn.Linear(in_features = config.num_filters*len(config.window_sizes),\n",
        "                            out_features = config.num_classes)\n",
        "        \n",
        "    def forward(self, x):\n",
        "        # x: (batch_size, seq_length)\n",
        "        embed_x = self.embedding(x)\n",
        "        # embed_x: (batch_size, seq_length, embedding_dim)\n",
        "\n",
        "        embed_x = embed_x.permute(0, 2, 1)\n",
        "        # embed_x: (batch_size, embedding_dim, seq_length)\n",
        "\n",
        "        out = [conv(embed_x) for conv in self.convs]\n",
        "        # out[i]: (batch_size, num_filters, 1)\n",
        "\n",
        "        out = torch.cat(out, dim = 1)\n",
        "        # out: (batch_size, num_filters*len(config.window_sizes), 1)\n",
        "\n",
        "        out = out.view(-1, out.shape[1])\n",
        "        out = F.dropout(input=out, p = self.dropout_rate)\n",
        "\n",
        "        logits = self.fc(out)\n",
        "        # logits: (batch_size, num_classes)\n",
        "\n",
        "        probs = F.softmax(logits, dim = 1)\n",
        "        return probs\n",
        "    "
      ],
      "metadata": {
        "id": "cJqfe6AuZbIa"
      },
      "execution_count": 33,
      "outputs": []
    },
    {
      "cell_type": "markdown",
      "source": [
        "## 3. Train and Eval TextCNN Model"
      ],
      "metadata": {
        "id": "kMDCwLOwoBqy"
      }
    },
    {
      "cell_type": "code",
      "source": [
        "def train_epoch(model, data_loader, loss_fn, optimizer, device, n_example):\n",
        "    model = model.train()\n",
        "    losses = []\n",
        "    correct_count = 0\n",
        "    progress_bar = tqdm(enumerate(data_loader), total=len(data_loader))\n",
        "    for idx, data in progress_bar:\n",
        "        ids = data[\"ids\"].to(device)\n",
        "        targets = data[\"target\"].squeeze(dim = 1).to(device)\n",
        "        probs = model(ids)\n",
        "        _, preds = torch.max(probs, dim = 1)\n",
        "        loss = loss_fn(probs, targets)\n",
        "        correct_count += torch.sum(preds == targets)\n",
        "        losses.append(loss.item())\n",
        "        loss.backward()\n",
        "        optimizer.step()\n",
        "        optimizer.zero_grad()\n",
        "        progress_bar.set_description(f\"loss:{loss.item():.4f}\")\n",
        "\n",
        "    return correct_count.double() / n_example, np.mean(losses)\n"
      ],
      "metadata": {
        "id": "8D7nRGz8o-vD"
      },
      "execution_count": 34,
      "outputs": []
    },
    {
      "cell_type": "code",
      "source": [
        "config = CNNConfig()\n",
        "model = TextCNN(config, w2vmodel)\n",
        "model.to(device)\n",
        "loss_function = nn.CrossEntropyLoss()\n",
        "optimizer = optim.Adam(model.parameters(), lr = config.learning_rate, weight_decay = config.l2_reg)\n",
        "scheduler = lr_scheduler.StepLR(optimizer, step_size = 10, gamma = 0.1)\n",
        "\n",
        "loss_file_name = \"/content/drive/MyDrive/Colab_Notebooks/Yelp/models/\" +  \"plots/\" + \"textcnn_model_500_loss_with_padding.csv\""
      ],
      "metadata": {
        "id": "xSk3RwFIr6ps"
      },
      "execution_count": 35,
      "outputs": []
    },
    {
      "cell_type": "code",
      "source": [
        "f = open(loss_file_name,'w')\n",
        "f.write('iter, loss')\n",
        "f.write('\\n')\n",
        "\n",
        "for epoch in range(config.num_epochs):\n",
        "    print(f'Epoch {epoch+1}/{config.num_epochs}')\n",
        "    print('-' * 10)\n",
        "\n",
        "    train_acc, train_loss = train_epoch(model, train_data_loader, loss_function, optimizer, device, len(train_data))\n",
        "    scheduler.step()\n",
        "    print('\\n')\n",
        "    print(f'Train loss: {train_loss}  Accuracy: {train_acc}')\n",
        "\n",
        "    f.write(str(epoch+1) + \",\" + str(train_loss))\n",
        "    f.write('\\n')\n",
        "\n",
        "torch.save(model, \"/content/drive/MyDrive/Colab_Notebooks/Yelp/models/\" + \"textcnn_model_500_with_padding.pth\")\n",
        "f.close()"
      ],
      "metadata": {
        "colab": {
          "base_uri": "https://localhost:8080/"
        },
        "id": "X2X2RQDssusz",
        "outputId": "61916271-9f9f-4896-9c5c-b18ee59d9e9e"
      },
      "execution_count": 36,
      "outputs": [
        {
          "output_type": "stream",
          "name": "stdout",
          "text": [
            "Epoch 1/20\n",
            "----------\n"
          ]
        },
        {
          "output_type": "stream",
          "name": "stderr",
          "text": [
            "loss:0.6220: 100%|██████████| 875/875 [00:12<00:00, 71.41it/s]\n"
          ]
        },
        {
          "output_type": "stream",
          "name": "stdout",
          "text": [
            "\n",
            "\n",
            "Train loss: 0.5750269333635057  Accuracy: 0.7467857142857144\n",
            "Epoch 2/20\n",
            "----------\n"
          ]
        },
        {
          "output_type": "stream",
          "name": "stderr",
          "text": [
            "loss:0.5642: 100%|██████████| 875/875 [00:13<00:00, 65.26it/s]\n"
          ]
        },
        {
          "output_type": "stream",
          "name": "stdout",
          "text": [
            "\n",
            "\n",
            "Train loss: 0.5260813797542027  Accuracy: 0.7991428571428572\n",
            "Epoch 3/20\n",
            "----------\n"
          ]
        },
        {
          "output_type": "stream",
          "name": "stderr",
          "text": [
            "loss:0.4771: 100%|██████████| 875/875 [00:12<00:00, 71.48it/s]\n"
          ]
        },
        {
          "output_type": "stream",
          "name": "stdout",
          "text": [
            "\n",
            "\n",
            "Train loss: 0.5179791749886105  Accuracy: 0.8063571428571429\n",
            "Epoch 4/20\n",
            "----------\n"
          ]
        },
        {
          "output_type": "stream",
          "name": "stderr",
          "text": [
            "loss:0.4919: 100%|██████████| 875/875 [00:12<00:00, 72.28it/s]\n"
          ]
        },
        {
          "output_type": "stream",
          "name": "stdout",
          "text": [
            "\n",
            "\n",
            "Train loss: 0.517524174962725  Accuracy: 0.8067857142857143\n",
            "Epoch 5/20\n",
            "----------\n"
          ]
        },
        {
          "output_type": "stream",
          "name": "stderr",
          "text": [
            "loss:0.4916: 100%|██████████| 875/875 [00:12<00:00, 71.97it/s]\n"
          ]
        },
        {
          "output_type": "stream",
          "name": "stdout",
          "text": [
            "\n",
            "\n",
            "Train loss: 0.5180633298328945  Accuracy: 0.8057142857142858\n",
            "Epoch 6/20\n",
            "----------\n"
          ]
        },
        {
          "output_type": "stream",
          "name": "stderr",
          "text": [
            "loss:0.5006: 100%|██████████| 875/875 [00:12<00:00, 71.19it/s]\n"
          ]
        },
        {
          "output_type": "stream",
          "name": "stdout",
          "text": [
            "\n",
            "\n",
            "Train loss: 0.5135533118247986  Accuracy: 0.8097857142857143\n",
            "Epoch 7/20\n",
            "----------\n"
          ]
        },
        {
          "output_type": "stream",
          "name": "stderr",
          "text": [
            "loss:0.4729: 100%|██████████| 875/875 [00:12<00:00, 70.42it/s]\n"
          ]
        },
        {
          "output_type": "stream",
          "name": "stdout",
          "text": [
            "\n",
            "\n",
            "Train loss: 0.5163220499243055  Accuracy: 0.8087857142857143\n",
            "Epoch 8/20\n",
            "----------\n"
          ]
        },
        {
          "output_type": "stream",
          "name": "stderr",
          "text": [
            "loss:0.5676: 100%|██████████| 875/875 [00:12<00:00, 70.49it/s]\n"
          ]
        },
        {
          "output_type": "stream",
          "name": "stdout",
          "text": [
            "\n",
            "\n",
            "Train loss: 0.5135076575279236  Accuracy: 0.8105714285714286\n",
            "Epoch 9/20\n",
            "----------\n"
          ]
        },
        {
          "output_type": "stream",
          "name": "stderr",
          "text": [
            "loss:0.4892: 100%|██████████| 875/875 [00:12<00:00, 70.67it/s]\n"
          ]
        },
        {
          "output_type": "stream",
          "name": "stdout",
          "text": [
            "\n",
            "\n",
            "Train loss: 0.5116733648777008  Accuracy: 0.8113571428571429\n",
            "Epoch 10/20\n",
            "----------\n"
          ]
        },
        {
          "output_type": "stream",
          "name": "stderr",
          "text": [
            "loss:0.4399: 100%|██████████| 875/875 [00:12<00:00, 69.94it/s]\n"
          ]
        },
        {
          "output_type": "stream",
          "name": "stdout",
          "text": [
            "\n",
            "\n",
            "Train loss: 0.5132724152292524  Accuracy: 0.8078571428571429\n",
            "Epoch 11/20\n",
            "----------\n"
          ]
        },
        {
          "output_type": "stream",
          "name": "stderr",
          "text": [
            "loss:0.5642: 100%|██████████| 875/875 [00:12<00:00, 70.67it/s]\n"
          ]
        },
        {
          "output_type": "stream",
          "name": "stdout",
          "text": [
            "\n",
            "\n",
            "Train loss: 0.4999064608642033  Accuracy: 0.8277857142857143\n",
            "Epoch 12/20\n",
            "----------\n"
          ]
        },
        {
          "output_type": "stream",
          "name": "stderr",
          "text": [
            "loss:0.4539: 100%|██████████| 875/875 [00:12<00:00, 69.93it/s]\n"
          ]
        },
        {
          "output_type": "stream",
          "name": "stdout",
          "text": [
            "\n",
            "\n",
            "Train loss: 0.500295489345278  Accuracy: 0.8345714285714286\n",
            "Epoch 13/20\n",
            "----------\n"
          ]
        },
        {
          "output_type": "stream",
          "name": "stderr",
          "text": [
            "loss:0.4399: 100%|██████████| 875/875 [00:12<00:00, 69.89it/s]\n"
          ]
        },
        {
          "output_type": "stream",
          "name": "stdout",
          "text": [
            "\n",
            "\n",
            "Train loss: 0.5005350093160357  Accuracy: 0.8310000000000001\n",
            "Epoch 14/20\n",
            "----------\n"
          ]
        },
        {
          "output_type": "stream",
          "name": "stderr",
          "text": [
            "loss:0.5209: 100%|██████████| 875/875 [00:12<00:00, 69.66it/s]\n"
          ]
        },
        {
          "output_type": "stream",
          "name": "stdout",
          "text": [
            "\n",
            "\n",
            "Train loss: 0.49966194026810784  Accuracy: 0.8389285714285715\n",
            "Epoch 15/20\n",
            "----------\n"
          ]
        },
        {
          "output_type": "stream",
          "name": "stderr",
          "text": [
            "loss:0.4729: 100%|██████████| 875/875 [00:12<00:00, 69.05it/s]\n"
          ]
        },
        {
          "output_type": "stream",
          "name": "stdout",
          "text": [
            "\n",
            "\n",
            "Train loss: 0.49869942709377835  Accuracy: 0.8383571428571429\n",
            "Epoch 16/20\n",
            "----------\n"
          ]
        },
        {
          "output_type": "stream",
          "name": "stderr",
          "text": [
            "loss:0.5330: 100%|██████████| 875/875 [00:12<00:00, 68.76it/s]\n"
          ]
        },
        {
          "output_type": "stream",
          "name": "stdout",
          "text": [
            "\n",
            "\n",
            "Train loss: 0.49895087919916425  Accuracy: 0.8356428571428572\n",
            "Epoch 17/20\n",
            "----------\n"
          ]
        },
        {
          "output_type": "stream",
          "name": "stderr",
          "text": [
            "loss:0.4764: 100%|██████████| 875/875 [00:12<00:00, 68.85it/s]\n"
          ]
        },
        {
          "output_type": "stream",
          "name": "stdout",
          "text": [
            "\n",
            "\n",
            "Train loss: 0.4966883182866233  Accuracy: 0.8387857142857144\n",
            "Epoch 18/20\n",
            "----------\n"
          ]
        },
        {
          "output_type": "stream",
          "name": "stderr",
          "text": [
            "loss:0.4976: 100%|██████████| 875/875 [00:12<00:00, 68.34it/s]\n"
          ]
        },
        {
          "output_type": "stream",
          "name": "stdout",
          "text": [
            "\n",
            "\n",
            "Train loss: 0.4973745288167681  Accuracy: 0.8377142857142857\n",
            "Epoch 19/20\n",
            "----------\n"
          ]
        },
        {
          "output_type": "stream",
          "name": "stderr",
          "text": [
            "loss:0.5085: 100%|██████████| 875/875 [00:12<00:00, 69.05it/s]\n"
          ]
        },
        {
          "output_type": "stream",
          "name": "stdout",
          "text": [
            "\n",
            "\n",
            "Train loss: 0.4960676829474313  Accuracy: 0.8403571428571429\n",
            "Epoch 20/20\n",
            "----------\n"
          ]
        },
        {
          "output_type": "stream",
          "name": "stderr",
          "text": [
            "loss:0.4012: 100%|██████████| 875/875 [00:12<00:00, 68.90it/s]\n"
          ]
        },
        {
          "output_type": "stream",
          "name": "stdout",
          "text": [
            "\n",
            "\n",
            "Train loss: 0.4962777920109885  Accuracy: 0.8414285714285715\n"
          ]
        }
      ]
    },
    {
      "cell_type": "code",
      "source": [
        "def eval_model(model, data_loader, device):\n",
        "    model = model.eval()\n",
        "    progress_bar = tqdm(enumerate(data_loader), total=len(data_loader))\n",
        "    all_targets = []\n",
        "    all_predictions = []\n",
        "    for idx, data in progress_bar:\n",
        "        ids = data[\"ids\"].to(device)\n",
        "        targets = data[\"target\"].squeeze(dim = 1).to(device)\n",
        "        probs = model(ids)\n",
        "        _, preds = torch.max(probs, dim = 1)\n",
        "        all_targets += targets.cpu().numpy().tolist()\n",
        "        all_predictions += preds.cpu().numpy().tolist()\n",
        "    print(classification_report(all_targets, all_predictions))"
      ],
      "metadata": {
        "id": "EC2ShekH0MEW"
      },
      "execution_count": 37,
      "outputs": []
    },
    {
      "cell_type": "code",
      "source": [
        "from sklearn.metrics import classification_report\n",
        "eval_model(model, test_data_loader, device)"
      ],
      "metadata": {
        "colab": {
          "base_uri": "https://localhost:8080/"
        },
        "id": "BSv6wJr61lkc",
        "outputId": "28fbf03c-dea1-4ab2-c176-1874f14113c5"
      },
      "execution_count": 38,
      "outputs": [
        {
          "output_type": "stream",
          "name": "stderr",
          "text": [
            "100%|██████████| 375/375 [00:02<00:00, 137.97it/s]"
          ]
        },
        {
          "output_type": "stream",
          "name": "stdout",
          "text": [
            "              precision    recall  f1-score   support\n",
            "\n",
            "           0       0.85      0.85      0.85      3000\n",
            "           1       0.85      0.85      0.85      3000\n",
            "\n",
            "    accuracy                           0.85      6000\n",
            "   macro avg       0.85      0.85      0.85      6000\n",
            "weighted avg       0.85      0.85      0.85      6000\n",
            "\n"
          ]
        },
        {
          "output_type": "stream",
          "name": "stderr",
          "text": [
            "\n"
          ]
        }
      ]
    },
    {
      "cell_type": "code",
      "source": [
        "loss_df = pd.read_csv(loss_file_name, header = 0, names = [\"iter\", \"loss\"])\n",
        "pd.to_numeric(loss_df['loss'])\n",
        "plt_textcnn_model_500_loss_with_padding = loss_df['loss'].plot()"
      ],
      "metadata": {
        "colab": {
          "base_uri": "https://localhost:8080/",
          "height": 265
        },
        "id": "JRM5OutN4j9U",
        "outputId": "11331853-0018-4dac-f828-2d8f4d891e36"
      },
      "execution_count": 39,
      "outputs": [
        {
          "output_type": "display_data",
          "data": {
            "text/plain": [
              "<Figure size 432x288 with 1 Axes>"
            ],
            "image/png": "[encoded data removed]"
          },
          "metadata": {
            "needs_background": "light"
          }
        }
      ]
    }
  ]
}