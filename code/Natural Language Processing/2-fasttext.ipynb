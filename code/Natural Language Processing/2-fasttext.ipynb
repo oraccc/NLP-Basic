{
 "cells": [
  {
   "cell_type": "code",
   "execution_count": 1,
   "metadata": {},
   "outputs": [],
   "source": [
    "import jieba\n",
    "import os\n",
    "import fasttext\n",
    "import logging"
   ]
  },
  {
   "cell_type": "markdown",
   "metadata": {},
   "source": [
    "#### Prepare Data"
   ]
  },
  {
   "cell_type": "code",
   "execution_count": null,
   "metadata": {},
   "outputs": [],
   "source": [
    "basedir = r\"D:/自学/NLP Basic/data/fastText_data/THUCNews/\"\n",
    "dir_list = [\"时政\",\"星座\",\"财经\",\"教育\",\"娱乐\",\"时尚\",\"游戏\",\"家居\",\"房产\",\"彩票\",\"科技\",\"体育\",\"社会\",\"股票\"]\n",
    "\n",
    "ftrain = open(basedir + \"news_fasttext_train.txt\",\"w\", encoding=\"utf-8\")\n",
    "ftest = open(basedir + \"news_fasttext_test.txt\",\"w\", encoding=\"utf-8\")\n",
    "\n",
    "num = -1\n",
    "for e in dir_list:\n",
    "    num += 1\n",
    "    indir = basedir + e + '/'\n",
    "    files = os.listdir(indir)\n",
    "    count = 0\n",
    "    for fileName in files:\n",
    "        count += 1            \n",
    "        filepath = indir + fileName\n",
    "        with open(filepath,'r', encoding=\"utf-8\") as fr:\n",
    "            text = fr.read()\n",
    "        text = str(text.encode(\"utf-8\"),\"utf-8\")\n",
    "        seg_text = jieba.cut(text.replace(\"\\t\",\" \").replace(\"\\n\",\" \"))\n",
    "        outline = \" \".join(seg_text)\n",
    "        outline = outline + \"\\t__label__\" + e + \"\\n\"\n",
    "\n",
    "        if count < 10000:\n",
    "            ftrain.write(outline)\n",
    "            ftrain.flush()\n",
    "            continue\n",
    "        elif count  < 20000:\n",
    "            ftest.write(outline)\n",
    "            ftest.flush()\n",
    "            continue\n",
    "        else:\n",
    "            break\n",
    "\n",
    "ftrain.close()\n",
    "ftest.close()\n",
    "print(\"Get File Done\")"
   ]
  },
  {
   "cell_type": "markdown",
   "metadata": {},
   "source": [
    "#### Train fastText with THUCNews data"
   ]
  },
  {
   "cell_type": "code",
   "execution_count": 8,
   "metadata": {},
   "outputs": [
    {
     "name": "stdout",
     "output_type": "stream",
     "text": [
      "Training Done!\n"
     ]
    }
   ],
   "source": [
    "logging.basicConfig(format='%(asctime)s : %(levelname)s : %(message)s', level=logging.INFO)\n",
    "\n",
    "classifier = fasttext.train_supervised(\"../data/fastText_data/THUCNews/news_fasttext_train.txt\", label_prefix=\"__label__\")\n",
    "\n",
    "print(\"Training Done!\")"
   ]
  },
  {
   "cell_type": "code",
   "execution_count": 9,
   "metadata": {},
   "outputs": [
    {
     "name": "stdout",
     "output_type": "stream",
     "text": [
      "precision： 0.8833808183895069\n"
     ]
    }
   ],
   "source": [
    "result = classifier.test(\"../data/fastText_data/THUCNews/news_fasttext_test.txt\")\n",
    "print('precision: ', result[1])"
   ]
  },
  {
   "cell_type": "markdown",
   "metadata": {},
   "source": [
    "#### Get Prediction and Evaluate"
   ]
  },
  {
   "cell_type": "code",
   "execution_count": 14,
   "metadata": {},
   "outputs": [
    {
     "name": "stdout",
     "output_type": "stream",
     "text": [
      "房产:\t precision:0.849284\t recall:0.972600\t f1-score:0.906769\n",
      "时尚:\t precision:0.743872\t recall:0.963787\t f1-score:0.839669\n",
      "娱乐:\t precision:0.940328\t recall:0.866700\t f1-score:0.902014\n",
      "家居:\t precision:0.923861\t recall:0.888200\t f1-score:0.905680\n",
      "体育:\t precision:0.986564\t recall:0.844400\t f1-score:0.909963\n",
      "财经:\t precision:0.922133\t recall:0.894100\t f1-score:0.907900\n",
      "股票:\t precision:0.799554\t recall:0.752300\t f1-score:0.775207\n",
      "游戏:\t precision:0.972219\t recall:0.948400\t f1-score:0.960162\n",
      "科技:\t precision:0.857346\t recall:0.964600\t f1-score:0.907816\n",
      "社会:\t precision:0.858730\t recall:0.919700\t f1-score:0.888170\n",
      "时政:\t precision:0.906178\t recall:0.712800\t f1-score:0.797940\n",
      "教育:\t precision:0.892991\t recall:0.926300\t f1-score:0.909341\n"
     ]
    }
   ],
   "source": [
    "labels_right = []\n",
    "texts = []\n",
    "with open(\"../data/fastText_data/THUCNews/news_fasttext_test.txt\", encoding=\"utf-8\") as fr:\n",
    "    for line in fr:\n",
    "        line = str(line.encode(\"utf-8\"), 'utf-8').rstrip()\n",
    "        labels_right.append(line.split(\"\\t\")[1].replace(\"__label__\",\"\"))\n",
    "        texts.append(line.split(\"\\t\")[0])\n",
    "\n",
    "labels_predict = [term[0] for term in classifier.predict(texts)[0]]\n",
    "\n",
    "\n",
    "text_labels = list(set(labels_right))\n",
    "text_predict_labels = list(set(labels_predict))\n",
    "\n",
    "A = dict.fromkeys(text_labels,0)          # Number of correct predictions in each category\n",
    "B = dict.fromkeys(text_labels,0)          # Number of categories in test dataset\n",
    "C = dict.fromkeys(text_predict_labels,0)  # Number of each category in prediction result\n",
    "for i in range(0,len(labels_right)):\n",
    "    B[labels_right[i]] += 1\n",
    "    C[labels_predict[i]] += 1\n",
    "    if labels_right[i] == labels_predict[i].replace('__label__', ''):\n",
    "        A[labels_right[i]] += 1\n",
    "\n",
    "\n",
    "for key in B:\n",
    "    try:\n",
    "        r = float(A[key]) / float(B[key])\n",
    "        p = float(A[key]) / float(C['__label__' + key])\n",
    "        f = p * r * 2 / (p + r)\n",
    "        print(\"%s:\\t precision:%f\\t recall:%f\\t f1-score:%f\" % (key, p, r, f))\n",
    "    except:\n",
    "        print(\"error:\", key, \"right:\", A.get(key,0), \"real:\", B.get(key,0), \"predict:\", C.get(key,0))"
   ]
  }
 ],
 "metadata": {
  "kernelspec": {
   "display_name": "Python 3.7.11 ('R_BERT')",
   "language": "python",
   "name": "python3"
  },
  "language_info": {
   "codemirror_mode": {
    "name": "ipython",
    "version": 3
   },
   "file_extension": ".py",
   "mimetype": "text/x-python",
   "name": "python",
   "nbconvert_exporter": "python",
   "pygments_lexer": "ipython3",
   "version": "3.7.11"
  },
  "orig_nbformat": 4,
  "vscode": {
   "interpreter": {
    "hash": "a66a608d24a4e15edbc97aebd0283fd75e1a154eb8c33a6c03595231bf52b2b2"
   }
  }
 },
 "nbformat": 4,
 "nbformat_minor": 2
}
