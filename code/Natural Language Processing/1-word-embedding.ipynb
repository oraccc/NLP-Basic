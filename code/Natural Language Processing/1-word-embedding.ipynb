{
 "cells": [
  {
   "cell_type": "code",
   "execution_count": null,
   "metadata": {},
   "outputs": [],
   "source": [
    "import logging\n",
    "import os.path\n",
    "import sys\n",
    "from gensim.corpora import WikiCorpus #gensim 4.2.0\n",
    "  \n",
    "# define base path\n",
    "basename = r\"../../data/word-embedding_data/\"\n",
    "inpath = basename + 'zhwiki-latest-pages-articles.xml.bz2'\n",
    "outpath = basename + 'wiki.zh.text'\n",
    "\n",
    "program = os.path.basename(basename)\n",
    "logger = logging.getLogger(program)\n",
    "logging.basicConfig(format='%(asctime)s: %(levelname)s: %(message)s')\n",
    "logging.root.setLevel(level=logging.INFO)\n",
    "# logger.info(\"running %s\" % ' '.join(sys.argv))\n",
    "\n",
    "space = \" \"\n",
    "i = 0\n",
    "output = open(outpath, 'w',encoding='utf-8')\n",
    "wiki = WikiCorpus(inpath, dictionary={})\n",
    "for text in wiki.get_texts():\n",
    "    output.write(space.join(text) + \"\\n\")\n",
    "    i = i + 1\n",
    "    if (i % 10000 == 0):\n",
    "        logger.info(\"Saved \" + str(i) + \" articles\")\n",
    "output.close()\n",
    "logger.info(\"Finished Saved \" + str(i) + \" articles\")"
   ]
  },
  {
   "cell_type": "code",
   "execution_count": null,
   "metadata": {},
   "outputs": [],
   "source": [
    "import logging\n",
    "import os.path\n",
    "import sys\n",
    "import multiprocessing\n",
    "from gensim.corpora import WikiCorpus\n",
    "from gensim.models import Word2Vec\n",
    "from gensim.models.word2vec import LineSentence\n",
    "\n",
    "basename = r\"../../data/word-embedding_data/\"\n",
    "inpath = basename + 'wiki.zh.text'\n",
    "outpath1 = basename + 'wiki.zh.text.model'\n",
    "outpath2 = basename + 'wiki.zh.text.vector'\n",
    "\n",
    "program = os.path.basename(basename)\n",
    "logger = logging.getLogger(program)\n",
    "logging.basicConfig(format='%(asctime)s: %(levelname)s: %(message)s')\n",
    "logging.root.setLevel(level=logging.INFO)\n",
    "logger.info(\"running %s\" % ' '.join(sys.argv))\n",
    "\n",
    "model = Word2Vec(LineSentence(inpath), vector_size=400, window=5, min_count=5,\n",
    "        workers=multiprocessing.cpu_count())\n",
    "\n",
    "model.save(outpath1)\n",
    "model.wv.save_word2vec_format(outpath2, binary=False)"
   ]
  },
  {
   "cell_type": "code",
   "execution_count": 1,
   "metadata": {},
   "outputs": [
    {
     "name": "stdout",
     "output_type": "stream",
     "text": [
      "籃球 0.8922973275184631\n",
      "排球 0.8895696401596069\n",
      "棒球 0.8592865467071533\n",
      "橄欖球 0.8559354543685913\n",
      "高爾夫 0.8493742942810059\n",
      "高爾夫球 0.8454538583755493\n",
      "板球 0.8447990417480469\n",
      "網球 0.8420953154563904\n",
      "滑雪 0.8259373903274536\n",
      "欖球 0.8197766542434692\n"
     ]
    }
   ],
   "source": [
    "import gensim\n",
    "\n",
    "\n",
    "basename = r\"../../data/word-embedding_data/\"\n",
    "model = basename + 'wiki.zh.text.model'\n",
    "\n",
    "model = gensim.models.Word2Vec.load(model)\n",
    "\n",
    "result = model.wv.most_similar(u\"足球\")\n",
    "for e in result:\n",
    "    print(e[0], e[1])"
   ]
  },
  {
   "cell_type": "code",
   "execution_count": 2,
   "metadata": {},
   "outputs": [
    {
     "name": "stdout",
     "output_type": "stream",
     "text": [
      "荷兰 0.8912056684494019\n",
      "奥地利 0.8868590593338013\n",
      "比利时 0.8459786772727966\n",
      "丹麦 0.8274202942848206\n",
      "波兰 0.8225032687187195\n",
      "法国 0.8198355436325073\n",
      "瑞士 0.810880720615387\n",
      "在奥地利 0.7870104312896729\n",
      "英国 0.7760198712348938\n",
      "芬兰 0.7657036781311035\n"
     ]
    }
   ],
   "source": [
    "result = model.wv.most_similar(u\"德国\")\n",
    "for e in result:\n",
    "    print(e[0], e[1])"
   ]
  }
 ],
 "metadata": {
  "kernelspec": {
   "display_name": "tf1.15_cpu",
   "language": "python",
   "name": "python3"
  },
  "language_info": {
   "codemirror_mode": {
    "name": "ipython",
    "version": 3
   },
   "file_extension": ".py",
   "mimetype": "text/x-python",
   "name": "python",
   "nbconvert_exporter": "python",
   "pygments_lexer": "ipython3",
   "version": "3.6.13 |Anaconda, Inc.| (default, Mar 16 2021, 11:37:27) [MSC v.1916 64 bit (AMD64)]"
  },
  "orig_nbformat": 4,
  "vscode": {
   "interpreter": {
    "hash": "623ed0ec00d341bb244609ee0f891229bed72b94802ac9fdbf49b1ebdc1e4a9e"
   }
  }
 },
 "nbformat": 4,
 "nbformat_minor": 2
}
