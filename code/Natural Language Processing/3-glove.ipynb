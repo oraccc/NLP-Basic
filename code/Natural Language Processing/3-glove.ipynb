{
 "cells": [
  {
   "cell_type": "markdown",
   "metadata": {},
   "source": [
    "#### Get Word Vector from GloVe\n",
    "\n",
    "* 下载GitHub项目：https://github.com/stanfordnlp/GloVe/archive/master.zip\n",
    "\n",
    "* 进入目录执行make进行编译操作\n",
    "\n",
    "* 然后执行 sh demo.sh 进行训练并生成词向量文件：vectors.txt和vectors.bin"
   ]
  },
  {
   "cell_type": "code",
   "execution_count": 1,
   "metadata": {},
   "outputs": [],
   "source": [
    "import shutil\n",
    "import gensim"
   ]
  },
  {
   "cell_type": "code",
   "execution_count": 2,
   "metadata": {},
   "outputs": [],
   "source": [
    "def getFileLineNums(filename):  \n",
    "    f = open(filename,'r')  \n",
    "    count = 0  \n",
    "  \n",
    "    for line in f:  \n",
    "        count += 1\n",
    "\n",
    "    return count\n",
    "\n",
    "def prepend_line(infile, outfile, line):  \n",
    "    with open(infile, 'r') as old:  \n",
    "        with open(outfile, 'w') as new:  \n",
    "            new.write(str(line) + \"\\n\")  \n",
    "            shutil.copyfileobj(old, new)\n",
    "             \n",
    "def prepare_model(filename):  \n",
    "    # Input: GloVe Model File  \n",
    "    # Output: Gensim Model text format.\n",
    "    glove_file = filename    \n",
    "    num_lines = getFileLineNums(filename)  \n",
    "    dims = 50  \n",
    "\n",
    "    gensim_file = r\"../../data/glove_data/glove_model.txt\"\n",
    "    gensim_first_line = \"{} {}\".format(num_lines, dims)  \n",
    "\n",
    "    prepend_line(glove_file, gensim_file, gensim_first_line)  \n",
    "\n",
    "    print(\"Coverted GloVe Model File to Gensim Model Format!\")\n"
   ]
  },
  {
   "cell_type": "markdown",
   "metadata": {},
   "source": [
    "#### Convert GloVe Model File to Gensim Model Format"
   ]
  },
  {
   "cell_type": "code",
   "execution_count": 3,
   "metadata": {},
   "outputs": [
    {
     "name": "stdout",
     "output_type": "stream",
     "text": [
      "Coverted GloVe Model File to Gensim Model Format!\n"
     ]
    }
   ],
   "source": [
    "glove_file = r\"../../data/glove_data/vectors.txt\"\n",
    "prepare_model(glove_file)"
   ]
  },
  {
   "cell_type": "markdown",
   "metadata": {},
   "source": [
    "#### Load Gensim Model"
   ]
  },
  {
   "cell_type": "code",
   "execution_count": 4,
   "metadata": {},
   "outputs": [
    {
     "name": "stdout",
     "output_type": "stream",
     "text": [
      "china --\n",
      "india 0.8322890400886536\n",
      "japan 0.830229640007019\n",
      "mainland 0.8070111274719238\n",
      "taiwan 0.7890062928199768\n",
      "korea 0.7635075449943542\n",
      "asia 0.7617185711860657\n",
      "iran 0.7477667927742004\n",
      "singapore 0.7268714904785156\n",
      "turkey 0.7156505584716797\n",
      "greece 0.7141737341880798\n",
      "\n",
      "germany --\n",
      "italy 0.7935311198234558\n",
      "austria 0.7753190398216248\n",
      "russia 0.7619495987892151\n",
      "europe 0.7374660968780518\n",
      "hungary 0.7256836295127869\n",
      "finland 0.7222674489021301\n",
      "netherlands 0.7181777358055115\n",
      "berlin 0.7135667204856873\n",
      "poland 0.7126365303993225\n",
      "france 0.6923221945762634\n",
      "\n"
     ]
    }
   ],
   "source": [
    "# Load Trained Model\n",
    "model_path = r\"../../data/glove_data/glove_model.txt\"\n",
    "model = gensim.models.KeyedVectors.load_word2vec_format(model_path)  \n",
    "\n",
    "word_list = [u'china',u'germany']  \n",
    "\n",
    "for word in word_list:  \n",
    "    print(word,'--')\n",
    "    for i in model.most_similar(word, topn=10):  \n",
    "        print(i[0],i[1])\n",
    "    print('')"
   ]
  }
 ],
 "metadata": {
  "kernelspec": {
   "display_name": "Python 3.7.11 ('R_BERT')",
   "language": "python",
   "name": "python3"
  },
  "language_info": {
   "codemirror_mode": {
    "name": "ipython",
    "version": 3
   },
   "file_extension": ".py",
   "mimetype": "text/x-python",
   "name": "python",
   "nbconvert_exporter": "python",
   "pygments_lexer": "ipython3",
   "version": "3.7.11 (default, Jul 27 2021, 09:42:29) [MSC v.1916 64 bit (AMD64)]"
  },
  "orig_nbformat": 4,
  "vscode": {
   "interpreter": {
    "hash": "a66a608d24a4e15edbc97aebd0283fd75e1a154eb8c33a6c03595231bf52b2b2"
   }
  }
 },
 "nbformat": 4,
 "nbformat_minor": 2
}
